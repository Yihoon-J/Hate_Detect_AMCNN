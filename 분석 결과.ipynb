{
 "cells": [
  {
   "cell_type": "markdown",
   "id": "0b00f780",
   "metadata": {
    "id": "ffooilbkmicc"
   },
   "source": [
    "# Model"
   ]
  },
  {
   "cell_type": "markdown",
   "id": "3a16145d",
   "metadata": {},
   "source": [
    "- Train과 Test에 이용했던 모델 호출\n",
    "- 이 모델은 혐오 컬럼에 대해 학습되어 있음"
   ]
  },
  {
   "cell_type": "code",
   "execution_count": null,
   "id": "67c94bc6",
   "metadata": {
    "id": "41s2A-h0mPUT"
   },
   "outputs": [],
   "source": [
    "from tensorflow import keras\n",
    "from tensorflow.keras import layers\n",
    "from AttentionLayer import *\n",
    "from keras.layers import BatchNormalization, Dropout\n",
    "\n",
    "\n",
    "\n",
    "class AMCNN:\n",
    "    def __init__(self, maxlen, embed_dim,words_count, filter_size, channel, mask_prob=0.7,att_reg=0.0001 ):\n",
    "        \"\"\"\n",
    "        :param maxlen: Max length of sequence\n",
    "        :param embed_dim: Embedding size of word embedding layer\n",
    "        :param words_count:  Word count of Tokenizer\n",
    "        :param filter_size:  Filter size of CNN layer\n",
    "        :param channel: Number of Attention Layer Channels\n",
    "        :param mask_prob: Masking proportion of Attention Layer(It only apply training model.)\n",
    "        :param att_reg: L2 regularizer term of Attention Layer\n",
    "        \"\"\"\n",
    "        self.maxlen = maxlen\n",
    "        self.words_count = words_count\n",
    "        self.embed_dim = embed_dim\n",
    "        self.filter_size = filter_size\n",
    "        self.channel = channel\n",
    "        self.att_reg = att_reg\n",
    "        num_filter = embed_dim // filter_size\n",
    "        self.num_filters = list(range(1, num_filter + 1))\n",
    "        self.mask_prob = mask_prob\n",
    "\n",
    "    def build(self, emb_trainable=True, pre_emb=True, emb_weight=None):\n",
    "        \"\"\"\n",
    "        :param emb_trainable: Define trainable of Embedding Layer\n",
    "        :param pre_emb: Whether to use pre-trained embedding weights\n",
    "        :param emb_weight: Pre-trained embedding weights\n",
    "        :return:\n",
    "        \"\"\"\n",
    "        inputs = layers.Input(shape=(self.maxlen,))\n",
    "        pad_k = tf.expand_dims(tf.cast((inputs == 0), dtype=tf.float32) * -99999, axis=2)\n",
    "\n",
    "        if pre_emb:\n",
    "            emb_layer = layers.Embedding(self.words_count + 1, self.embed_dim, trainable=emb_trainable,\n",
    "                                         weights=[emb_weight])\n",
    "        else:\n",
    "            emb_layer = layers.Embedding(self.words_count + 1, self.embed_dim, trainable=\n",
    "            True)\n",
    "        inputs_emb = emb_layer(inputs)\n",
    "\n",
    "        # Bi-LSTM cell summary\n",
    "        lstm_layer = layers.LSTM(self.embed_dim, return_sequences=True)\n",
    "        bi_lstm = layers.Bidirectional(lstm_layer, merge_mode=\"ave\")(inputs_emb)\n",
    "\n",
    "        C_features, self.scalar_att, self.vector_att = AttentionLayer(self.embed_dim, self.embed_dim, self.channel, 0.0001,\n",
    "                                                            self.mask_prob)(bi_lstm, pad_k)\n",
    "        inputs_emb2 = tf.expand_dims(inputs_emb, axis=3)\n",
    "        C_features = tf.concat([inputs_emb2, C_features], axis=3)\n",
    "\n",
    "        # kim-cnn process\n",
    "        pools = []\n",
    "        for filter_sizes in self.num_filters:\n",
    "            cnn_layers = layers.Conv2D(self.filter_size, kernel_size=(filter_sizes, self.embed_dim), activation=\"relu\")\n",
    "            cnn_out = cnn_layers(C_features)\n",
    "            cnn_out = layers.BatchNormalization()(cnn_out)  #배치정규화\n",
    "            max_pools = layers.MaxPool2D(pool_size=(self.maxlen - filter_sizes + 1, 1))(cnn_out)\n",
    "            max_pools = layers.Flatten()(max_pools)\n",
    "            pools.append(max_pools)\n",
    "        concated = layers.concatenate(pools)  # filter size x num_fiilters 수\n",
    "\n",
    "        # Higy-way process\n",
    "        gap_input_emb = layers.GlobalAvgPool1D()(inputs_emb)  # 임베딩 사이즈로 global average pooling\n",
    "        trans_ = layers.Dense(self.embed_dim, activation=\"relu\", use_bias=True)(gap_input_emb)\n",
    "        carry_ = 1 - trans_\n",
    "        gap_ = layers.Multiply()([trans_, gap_input_emb])\n",
    "        concated_ = layers.Multiply()([carry_, concated])\n",
    "        concated_ = layers.Dropout(0.6)(concated_)  # Dropout\n",
    "        concated_ = layers.Add()([concated_, gap_])\n",
    "        outputs = layers.Dense(1, activation=\"sigmoid\")(concated_)\n",
    "\n",
    "        self.model = keras.Model(inputs=inputs, outputs=outputs)\n",
    "        return self.model\n",
    "\n",
    "    def load_weights(self, path):\n",
    "        self.model.load_weights(path)\n",
    "        print(\"Load Weights Compelete!\")"
   ]
  },
  {
   "cell_type": "markdown",
   "id": "ac38f2f0",
   "metadata": {
    "id": "HNRkfwZocTYS"
   },
   "source": [
    "# 분석 결과\n",
    "### 영화 '택시운전사' 이용"
   ]
  },
  {
   "cell_type": "code",
   "execution_count": null,
   "id": "5cdcdc66",
   "metadata": {
    "colab": {
     "base_uri": "https://localhost:8080/"
    },
    "executionInfo": {
     "elapsed": 10714,
     "status": "ok",
     "timestamp": 1629360342424,
     "user": {
      "displayName": "차은혜",
      "photoUrl": "",
      "userId": "07794716641014551314"
     },
     "user_tz": -540
    },
    "id": "hGmfCUuCcUY-",
    "outputId": "c6d1802e-a1de-47e4-e3a6-81d6f6a43c08"
   },
   "outputs": [],
   "source": [
    "import pandas as pd\n",
    "from Token import Token\n",
    "from sklearn.metrics import f1_score,recall_score,precision_score,accuracy_score\n",
    "from sklearn.model_selection import train_test_split\n",
    "import pickle\n",
    "from tensorflow import keras\n",
    "import tensorflow as tf\n",
    "import numpy as np\n",
    "import argparse\n",
    "import os\n",
    "from sklearn.metrics import confusion_matrix, plot_confusion_matrix\n",
    "\n",
    "\n",
    "import easydict\n",
    "args = easydict.EasyDict({        \n",
    "        \"max_length\": 100,      \n",
    "        \"att_reg\": 0.0001,\n",
    "        \"channel\": 2,\n",
    "        \"weight_save_path\" : \"Weight\",\n",
    "        \"val_model_epoch\" : -1,\n",
    "        \"test_data\" : \"데이터/택시운전사.csv\" ,\n",
    "        \"document\" : \"text\"\n",
    "})\n",
    "\n",
    "\n",
    "def main():\n",
    "    global x_test\n",
    "    global pred_test\n",
    "    global model\n",
    "    global pred_test2\n",
    "    global test_data\n",
    "    # Check Gpu Enable\n",
    "    physical_devices = tf.config.experimental.list_physical_devices('GPU')\n",
    "    if len(physical_devices) > 0:\n",
    "        tf.config.experimental.set_memory_growth(physical_devices[0], True)\n",
    "\n",
    "    # parsing Arg\n",
    "    test_data_path = args.test_data\n",
    "    max_len = args.max_length\n",
    "    att_reg = args.att_reg\n",
    "    weight_save_path = args.weight_save_path\n",
    "    document = args.document\n",
    "    channel = args.channel\n",
    "    val_model_epoch = args.val_model_epoch\n",
    "\n",
    "    # Read Data\n",
    "    if \".csv\" in test_data_path:\n",
    "        read_data = pd.read_csv\n",
    "    elif \".xlsx\" in test_data_path:\n",
    "        read_data = pd.read_excel\n",
    "    else:\n",
    "        read_data = pd.read_table\n",
    "    test_data = read_data(test_data_path,encoding='CP949')\n",
    "\n",
    "    # Make Tokenizer Token\n",
    "    tk = Token(\"Tokenizer\", max_len)\n",
    "    test_data[\"Token\"] = test_data[document].apply(lambda x: tk.make_token_ori(x))\n",
    "\n",
    "    # Using Keras Tokenizer\n",
    "    print(\"Load Keras tokenizer for validate in %s\"%(weight_save_path))\n",
    "    with open(os.path.join(weight_save_path,\"keras_tokenizer.pkl\"), \"rb\") as f:\n",
    "        k_tokenizer = pickle.load(f)\n",
    "    words_count = len(k_tokenizer.word_counts)\n",
    "\n",
    "    #  K_tokenizer Sequence\n",
    "    sequences = k_tokenizer.texts_to_sequences(test_data['Token'])\n",
    "    x_test = keras.preprocessing.sequence.pad_sequences(sequences, maxlen=max_len)\n",
    "\n",
    "\n",
    "    # Build simple binary model\n",
    "    tf.keras.backend.clear_session()\n",
    "    amcnn = AMCNN(maxlen=max_len,\n",
    "                  embed_dim=500,\n",
    "                  words_count=words_count,\n",
    "                  filter_size=50,\n",
    "                  channel=channel,\n",
    "                  mask_prob=0.5,\n",
    "                  att_reg=att_reg)\n",
    "    model = amcnn.build(pre_emb=False)\n",
    "    \n",
    "    # Weight 폴더에 저장된 마지막 가중치 모델 호출, 이 모델로 분석 진행\n",
    "    if val_model_epoch == -1:\n",
    "        model_lst = [i for i in os.listdir(weight_save_path) if \".h5\" in i]\n",
    "        model_weight_path = model_lst[-1]\n",
    "    else:\n",
    "        model_weight_path = \"model-%4d.h5\"%(val_model_epoch)\n",
    "        model_weight_path = model_weight_path.replace(\" \",\"0\")\n",
    "        \n",
    "    model.load_weights(os.path.join(weight_save_path,model_weight_path))\n",
    "    print(\"Evaluate %s Test data\"%(os.path.join(weight_save_path,model_weight_path)))\n",
    "    \n",
    "    # pred_test : 확률, pred_test2 : 반올림한 값(0: 비혐오, 1:혐오)\n",
    "    pred_test = model.predict(x_test,verbose=1)\n",
    "    pred_test2 = np.int32(pred_test >= 0.5).reshape(-1)\n",
    "  \n",
    "\n",
    "if __name__ == \"__main__\":\n",
    "    main()"
   ]
  },
  {
   "cell_type": "markdown",
   "id": "5b62ea92",
   "metadata": {
    "id": "maQH0eVocePT"
   },
   "source": [
    "## 1.  각 댓글이 혐오일 확률"
   ]
  },
  {
   "cell_type": "code",
   "execution_count": null,
   "id": "d73415c9",
   "metadata": {
    "colab": {
     "base_uri": "https://localhost:8080/"
    },
    "executionInfo": {
     "elapsed": 332,
     "status": "ok",
     "timestamp": 1629360358887,
     "user": {
      "displayName": "차은혜",
      "photoUrl": "",
      "userId": "07794716641014551314"
     },
     "user_tz": -540
    },
    "id": "sYBG7W8wcZnH",
    "outputId": "47951050-fa8b-4b17-a80c-c435a0c29ba5"
   },
   "outputs": [],
   "source": [
    "for i in range(len(pred_test)):\n",
    "      print(i,'번째 댓글은 %0.2f %% 확률로 혐오성 댓글입니다.' %(float(pred_test[i])*100))"
   ]
  },
  {
   "cell_type": "markdown",
   "id": "cacc37bc",
   "metadata": {
    "id": "8ToJruBXckB5"
   },
   "source": [
    "## 2. 전체 댓글 중 혐오/비혐오 비율"
   ]
  },
  {
   "cell_type": "code",
   "execution_count": null,
   "id": "ae1cd0e7",
   "metadata": {
    "colab": {
     "base_uri": "https://localhost:8080/"
    },
    "executionInfo": {
     "elapsed": 335,
     "status": "ok",
     "timestamp": 1629360383267,
     "user": {
      "displayName": "차은혜",
      "photoUrl": "",
      "userId": "07794716641014551314"
     },
     "user_tz": -540
    },
    "id": "m-1uJYc5cgKo",
    "outputId": "75c5ea01-6ca0-4249-94be-1e644f001f53"
   },
   "outputs": [],
   "source": [
    "aversion = 0\n",
    "\n",
    "for i in pred_test2:\n",
    "  if i == 1:\n",
    "    aversion += 1\n",
    "\n",
    "\n",
    "print(\"전체 댓글 중 혐오 댓글은 %0.2f %% 입니다.\" % (aversion*100/len(pred_test2)))\n",
    "print(\"전체 댓글 중 혐오가 아닌 댓글은 %0.2f %% 입니다.\"% (100-(aversion*100/len(pred_test2))))"
   ]
  },
  {
   "cell_type": "markdown",
   "id": "e5cbb472",
   "metadata": {
    "id": "PztsG8DjdCB9"
   },
   "source": [
    "## 3. 실평점 예측"
   ]
  },
  {
   "cell_type": "code",
   "execution_count": null,
   "id": "43037f8b",
   "metadata": {},
   "outputs": [],
   "source": [
    "test_data['혐오/비혐오'] = pred_test2\n",
    "\n",
    "#혐오가 아닌 댓글만\n",
    "test_data_real = test_data[test_data['혐오/비혐오'] == 0]\n",
    "\n",
    "#실평점예측 = 전체평점/댓글수 \n",
    "real_score= test_data_real.score.sum()/len(test_data_real)\n",
    "print(\"이 영화의 네이버 평균 평점은 % 0.2f 점입니다.\" % test_data['score'].mean())\n",
    "print(\"이 영화의 실평점은 % 0.2f 점입니다.\" %(real_score))"
   ]
  },
  {
   "cell_type": "markdown",
   "id": "c644bff0",
   "metadata": {},
   "source": [
    "## 4. 입력한 댓글 혐오 판별"
   ]
  },
  {
   "cell_type": "code",
   "execution_count": null,
   "id": "9020d029",
   "metadata": {},
   "outputs": [],
   "source": [
    "args = easydict.EasyDict({ \n",
    "                           \"max_length\": 100, \n",
    "                           \"att_reg\": 0.0001, \n",
    "                           \"weight_save_path\": \"Weight\",\n",
    "                           \"channel\" : 2,\n",
    "                           \"val_model_epoch\": -1\n",
    "                          })\n",
    "\n",
    "\n",
    "\n",
    "def main():\n",
    "    global x_test\n",
    "    global pred_test\n",
    "    global model\n",
    "    global pred_test2\n",
    "    global test_data\n",
    "    # Check Gpu Enable\n",
    "    physical_devices = tf.config.experimental.list_physical_devices('GPU')\n",
    "    if len(physical_devices) > 0:\n",
    "        tf.config.experimental.set_memory_growth(physical_devices[0], True)\n",
    "\n",
    "    # parsing Arg\n",
    "    max_len = args.max_length\n",
    "    att_reg = args.att_reg\n",
    "    weight_save_path = args.weight_save_path\n",
    "    channel = args.channel\n",
    "    val_model_epoch = args.val_model_epoch\n",
    "\n",
    "    # 입력 받기\n",
    "    a = input()\n",
    "    txt = pd.Series(a)\n",
    "\n",
    "    # Make Tokenizer Token\n",
    "    tk = Token(\"Tokenizer\", max_len)\n",
    "    token = txt.apply(lambda x: tk.make_token_ori(x))\n",
    "\n",
    "    # Using Keras Tokenizer\n",
    "    with open(os.path.join(weight_save_path,\"keras_tokenizer.pkl\"), \"rb\") as f:\n",
    "        k_tokenizer = pickle.load(f)\n",
    "    words_count = len(k_tokenizer.word_counts)\n",
    "\n",
    "    #  K_tokenizer Sequence\n",
    "    sequences = k_tokenizer.texts_to_sequences(token)\n",
    "    x_test = keras.preprocessing.sequence.pad_sequences(sequences, maxlen=max_len)\n",
    "    \n",
    "    # Build simple binary model\n",
    "    tf.keras.backend.clear_session()\n",
    "    amcnn = AMCNN(maxlen=max_len,\n",
    "                  embed_dim=500,\n",
    "                  words_count=words_count,\n",
    "                  filter_size=50,\n",
    "                  channel=channel,\n",
    "                  mask_prob=0.5,\n",
    "                  att_reg=att_reg)\n",
    "    model = amcnn.build(pre_emb=False)\n",
    "\n",
    "    \n",
    "    if val_model_epoch == -1:\n",
    "        model_lst = [i for i in os.listdir(weight_save_path) if \".h5\" in i]\n",
    "        model_weight_path = model_lst[-1]\n",
    "    else:\n",
    "        model_weight_path = \"model-%4d.h5\"%(val_model_epoch)\n",
    "        model_weight_path = model_weight_path.replace(\" \",\"0\")\n",
    "    model.load_weights(os.path.join(weight_save_path,model_weight_path))\n",
    "    \n",
    "    pred_test = model.predict(x_test,verbose=1)\n",
    "    pred_test2 = np.int32(pred_test >= 0.5).reshape(-1)\n",
    "\n",
    "    print(\"위 댓글이 혐오일 확률은 %0.2f %% 입니다.\" % (pred_test[0][0]*100))\n",
    "\n",
    "if __name__ == \"__main__\":\n",
    "    main()\n"
   ]
  }
 ],
 "metadata": {
  "kernelspec": {
   "display_name": "Python 3",
   "language": "python",
   "name": "python3"
  },
  "language_info": {
   "codemirror_mode": {
    "name": "ipython",
    "version": 3
   },
   "file_extension": ".py",
   "mimetype": "text/x-python",
   "name": "python",
   "nbconvert_exporter": "python",
   "pygments_lexer": "ipython3",
   "version": "3.8.8"
  }
 },
 "nbformat": 4,
 "nbformat_minor": 5
}
