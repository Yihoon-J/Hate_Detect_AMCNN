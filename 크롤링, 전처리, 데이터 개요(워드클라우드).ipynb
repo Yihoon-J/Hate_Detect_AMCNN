{
 "cells": [
  {
   "cell_type": "markdown",
   "id": "bbc74787",
   "metadata": {},
   "source": [
    "# 크롤링"
   ]
  },
  {
   "cell_type": "code",
   "execution_count": null,
   "id": "bcf7cf10",
   "metadata": {
    "id": "bcf7cf10"
   },
   "outputs": [],
   "source": [
    "import requests\n",
    "import numpy as np\n",
    "import pandas as pd\n",
    "from bs4 import BeautifulSoup\n",
    "from datetime import datetime\n",
    "\n",
    "# '공작' 네이버 영화 페이지 url 복사\n",
    "test_url='https://movie.naver.com/movie/bi/mi/pointWriteFormList.naver?code=153687&type=after&isActualPointWriteExecute=false&isMileageSubscriptionAlready=false&isMileageSubscriptionReject=false'\n",
    "resp= requests.get(test_url)\n",
    "html=BeautifulSoup(resp.content, 'html.parser')\n",
    "\n",
    "#전체 댓글수 및 페이지 수\n",
    "result=html.find('div', {'class':'score_total'}).find('strong').findChildren('em')[0].getText()\n",
    "comments=int(result.replace(',',''))\n",
    "pages=int(np.ceil(comments/10))\n",
    "\n",
    "#코멘트 리스트 \n",
    "cmlst=pd.DataFrame(columns=['time','ID','text','score','like','dislike','watch_movie'])\n",
    "\n",
    "#데이터 추출 함수 정의\n",
    "def get_data(url):\n",
    "    global cmlst\n",
    "    global review_text\n",
    "    global nickname\n",
    "    global created_at\n",
    "    global like\n",
    "    global dislike\n",
    "    global score\n",
    "    #url 호출\n",
    "    resp=requests.get(url)\n",
    "    html=BeautifulSoup(resp.content,'html.parser')\n",
    "    #평점 영역 추출\n",
    "    score_result=html.find('div',{'class':'score_result'})\n",
    "    lis=score_result.findAll('li')\n",
    "    for li in lis:\n",
    "        try: \n",
    "            nickname = li.findAll('a')[0].find('span').getText()\n",
    "        except:\n",
    "            try:\n",
    "                nickname = li.findAll('a')[1].find('span').getText()\n",
    "            except:\n",
    "                pass\n",
    "            \n",
    "        try:\n",
    "            created_at = datetime.strptime(li.find('dt').findAll('em')[-1].getText(), \"%Y.%m.%d %H:%M\")\n",
    "            like=li.find('div',{'class':'btn_area'}).findAll('strong')[0].getText()\n",
    "            dislike=li.find('div',{'class':'btn_area'}).findAll('strong')[1].getText()\n",
    "        except AttributeError:\n",
    "            pass\n",
    "        \n",
    "        try:\n",
    "            attr = li.select_one('a')\n",
    "            review_text = attr['data-src']\n",
    "        except KeyError:\n",
    "            review_text = li.find('p').getText().replace('\\t',r'').replace('\\n',r'').replace('\\r',r'').replace('\\t',r'').replace('관람객',r'').replace('스포일러가 포함된 감상평입니다. 감상평 보기',r'')\n",
    "        score=li.find('em').getText()\n",
    "        watch_movie = li.find('span', {'class':'ico_viewer'})\n",
    "        cmlst=cmlst.append({'time':created_at,'ID':nickname,'text':review_text,'score':score,'like':like,\n",
    "                            'dislike':dislike, 'watch_movie': watch_movie and True or False},ignore_index=True)\n",
    "\n",
    "\n",
    "for i in range(1,pages+1):\n",
    "    url=test_url+'&page='+str(i)\n",
    "    get_data(url)\n",
    "\n",
    "#csv 출력\n",
    "cmlst.to_csv('데이터/공작.csv',sep=',', na_rep='NaN', index=False, encoding='CP949')"
   ]
  },
  {
   "cell_type": "markdown",
   "id": "3ecd404f",
   "metadata": {},
   "source": [
    "# 전처리"
   ]
  },
  {
   "cell_type": "code",
   "execution_count": null,
   "id": "95c2a36a",
   "metadata": {},
   "outputs": [],
   "source": [
    "#csv 불러오기\n",
    "df = pd.read_csv('데이터/공작.csv', encoding='CP949')\n",
    "\n",
    "#결측행 제거\n",
    "df = df.dropna()\n",
    "\n",
    "# 공백행 제거\n",
    "df = df.set_index('ID').reset_index()\n",
    "df['ID'].replace('', np.nan, inplace=True)\n",
    "df.dropna(subset=['ID'], inplace=True)\n",
    "\n",
    "# 숫자행 제거 (숫자행 없음)\n",
    "print(df.text.str.isnumeric().value_counts())\n",
    "print(df.text.replace('.','').str.isnumeric().value_counts())\n",
    "\n",
    "# 특수문자, 한글 자음제거\n",
    "import re\n",
    "df['text'] = [re.sub('[^A-Za-z0-9가-힣]', ' ', s) for s in df['text']]\n",
    "\n",
    "# 인코딩 오류 수정\n",
    "df = df.replace(\"&#34;\",'\"')\n",
    "df = df.replace(\"&#39\",\"'\")\n",
    "df = df.replace(\"&gt;\",\">\")\n",
    "df = df.replace(\"&lt;\",\"<\")\n",
    "\n",
    "# 중복행 제거 (ID, time, text 기준) -> 22,579행\n",
    "df = df.drop_duplicates(['ID','time','text'])\n",
    "df = df.set_index('ID').reset_index()"
   ]
  },
  {
   "cell_type": "code",
   "execution_count": null,
   "id": "ca38e024",
   "metadata": {},
   "outputs": [],
   "source": [
    "# 라벨링할 1점대 데이터 중 21% 랜덤추출 + csv 파일로 따로 저장 -> 모든 영화의 랜덤추출본을 concat해서 직접 라벨링 진행\n",
    "df_1 = df[df['score']==1]\n",
    "df_random = df_1.sample(frac=0.21)\n",
    "df_random.to_csv('공조(1점대)_랜덤추출.csv', sep=',', index=False, encoding='cp949')"
   ]
  },
  {
   "cell_type": "markdown",
   "id": "c757de70",
   "metadata": {},
   "source": [
    "# 데이터 개요"
   ]
  },
  {
   "cell_type": "markdown",
   "id": "157c2ee6",
   "metadata": {},
   "source": [
    "### 평점 분포 확인"
   ]
  },
  {
   "cell_type": "code",
   "execution_count": null,
   "id": "455aa282",
   "metadata": {},
   "outputs": [],
   "source": [
    "import matplotlib.pyplot as plt\n",
    "from matplotlib import font_manager, rc\n",
    "font_path = \"C:/Windows/Fonts/NGULIM.TTF\"\n",
    "font = font_manager.FontProperties(fname=font_path).get_name()\n",
    "rc('font', family=font)\n",
    "\n",
    "\n",
    "# 관람객 평점 분포 / 네티즌 평점 분포\n",
    "df_tf = pd.pivot_table(df, index ='score', columns='watch_movie', values = 'text', aggfunc='count')\n",
    "fig = plt.figure(figsize=(12,5))\n",
    "ax1 = fig.add_subplot(1,2,1)\n",
    "ax2 = fig.add_subplot(1,2,2)\n",
    "ax1.bar(df_tf.index, df_tf[False])\n",
    "ax2.bar(df_tf.index, df_tf[True])\n",
    "ax1.set_title('관람객X')\n",
    "ax2.set_title('관람객O')"
   ]
  },
  {
   "cell_type": "code",
   "execution_count": null,
   "id": "65f9f42d",
   "metadata": {},
   "outputs": [],
   "source": [
    "# 전체 평점 분포\n",
    "df_all= pd.pivot_table(df, index ='score', values = 'text', aggfunc='count')\n",
    "plt.bar(df_all.index, df_all.text)\n",
    "plt.title('전체 리뷰')"
   ]
  },
  {
   "cell_type": "markdown",
   "id": "0d76e17e",
   "metadata": {},
   "source": [
    "### 전체 댓글 워드클라우드 (2글자 이상+불용어)"
   ]
  },
  {
   "cell_type": "code",
   "execution_count": null,
   "id": "f7189897",
   "metadata": {},
   "outputs": [],
   "source": [
    "import nltk # konlpy, nltk\n",
    "from konlpy.corpus import kobill\n",
    "files_ko = kobill.fileids()\n",
    "from konlpy.tag import Okt\n",
    "from wordcloud import WordCloud, STOPWORDS\n",
    "import numpy as np\n",
    "from PIL import Image\n",
    "\n",
    "# 한국어 불용어 리스트 불러오기\n",
    "lists = open('한국어불용어100.txt', encoding = 'utf-8')\n",
    "lines = lists.readlines()\n",
    "stopwords = []\n",
    "for line in lines:\n",
    "    a,b,c = line.split()\n",
    "    stopwords.append(a)"
   ]
  },
  {
   "cell_type": "code",
   "execution_count": null,
   "id": "1bf8fe4a",
   "metadata": {},
   "outputs": [],
   "source": [
    "words =''\n",
    "for i in df.text:\n",
    "    words = words + ' ' + i\n",
    "a = ['영화', '공작', '보고', '정말', '진짜']\n",
    "stopwords += a\n",
    "\n",
    "t= Okt()\n",
    "tokens_ko = t.nouns(words)\n",
    "tokens_ko\n",
    "ko = nltk.Text(tokens_ko, name = '전체평점')\n",
    "\n",
    "ko = [each_word for each_word in ko if each_word not in stopwords]           \n",
    "ko = [n for n in ko if len(n) > 1]\n",
    "ko = nltk.Text(ko, name='전체평점')\n",
    "\n",
    "data = ko.vocab().most_common(300)\n",
    "wordcloud = WordCloud(font_path='c:\\Windows\\Fonts\\malgun.ttf',\n",
    "                      background_color='white', relative_scaling=0.2).generate_from_frequencies(dict(data))\n",
    "plt.figure(figsize=(12,8))\n",
    "plt.axis('off')\n",
    "plt.imshow(wordcloud)"
   ]
  },
  {
   "cell_type": "code",
   "execution_count": null,
   "id": "42ce3019",
   "metadata": {},
   "outputs": [],
   "source": [
    "# 50개 단어 빈도수 막대그래프\n",
    "plt.figure(figsize=(12,6))\n",
    "ko.plot(50)\n",
    "plt.show()\n",
    "ko.vocab()"
   ]
  },
  {
   "cell_type": "markdown",
   "id": "88e70451",
   "metadata": {},
   "source": [
    "### 1점대 댓글 워드클라우드 (2글자 이상 + 불용어)"
   ]
  },
  {
   "cell_type": "code",
   "execution_count": null,
   "id": "1865ffef",
   "metadata": {},
   "outputs": [],
   "source": [
    "df_1 =df[df.score == 1] \n",
    "\n",
    "# text 추출\n",
    "words =''\n",
    "for i in df_1.text:\n",
    "    words = words + ' ' + i\n",
    "    \n",
    "# 토큰화\n",
    "t= Okt()\n",
    "tokens_ko = t.nouns(words)\n",
    "ko = nltk.Text(tokens_ko, name = '전체평점_1점대')\n",
    "print(len(ko.tokens))\n",
    "print(len(set(ko.tokens)))\n",
    "\n",
    "# 불용어 처리\n",
    "ko = [each_word for each_word in ko if each_word not in stopwords]\n",
    "ko = [n for n in ko if len(n) > 1]\n",
    "\n",
    "ko = nltk.Text(ko, name='전체평점_1점대')\n",
    "\n",
    "# 빈도수 300개 이상 워드클라우드 작성\n",
    "data = ko.vocab().most_common(300)\n",
    "wordcloud = WordCloud(font_path='c:\\Windows\\Fonts\\malgun.ttf',\n",
    "                      background_color='white', relative_scaling=0.2).generate_from_frequencies(dict(data))\n",
    "plt.figure(figsize=(12,8))\n",
    "plt.axis('off')\n",
    "plt.imshow(wordcloud)"
   ]
  },
  {
   "cell_type": "code",
   "execution_count": null,
   "id": "1f908bf6",
   "metadata": {},
   "outputs": [],
   "source": [
    "plt.figure(figsize=(12,6))\n",
    "ko.plot(50)\n",
    "plt.show()\n",
    "ko.vocab()"
   ]
  },
  {
   "cell_type": "markdown",
   "id": "c6a89ee6",
   "metadata": {},
   "source": [
    "### 10점대 댓글 워드클라우드"
   ]
  },
  {
   "cell_type": "code",
   "execution_count": null,
   "id": "4471302d",
   "metadata": {},
   "outputs": [],
   "source": [
    "df_10 =df[df.score == 10] \n",
    "\n",
    "# text 추출\n",
    "words =''\n",
    "for i in df_10.text:\n",
    "    words = words + ' ' + i\n",
    "    \n",
    "# 토큰화\n",
    "t= Okt()\n",
    "tokens_ko = t.nouns(words)\n",
    "ko = nltk.Text(tokens_ko, name = '전체평점_10점대')\n",
    "print(len(ko.tokens))\n",
    "print(len(set(ko.tokens)))\n",
    "\n",
    "# 불용어 처리\n",
    "ko = [each_word for each_word in ko if each_word not in stopwords]\n",
    "ko = [n for n in ko if len(n) > 1]\n",
    "\n",
    "ko = nltk.Text(ko, name='전체평점_10점대')\n",
    "\n",
    "# 빈도수 300개 이상 워드클라우드 작성\n",
    "data = ko.vocab().most_common(300)\n",
    "wordcloud = WordCloud(font_path='c:\\Windows\\Fonts\\malgun.ttf',\n",
    "                      background_color='white', relative_scaling=0.2).generate_from_frequencies(dict(data))\n",
    "plt.figure(figsize=(12,8))\n",
    "plt.axis('off')\n",
    "plt.imshow(wordcloud)"
   ]
  },
  {
   "cell_type": "code",
   "execution_count": null,
   "id": "21ebb19a",
   "metadata": {},
   "outputs": [],
   "source": [
    "# 50개 단어 빈도수 막대그래프\n",
    "plt.figure(figsize=(12,6))\n",
    "ko.plot(50)\n",
    "plt.show()\n",
    "ko.vocab()"
   ]
  }
 ],
 "metadata": {
  "colab": {
   "name": "nickname none값 수정.ipynb",
   "provenance": []
  },
  "kernelspec": {
   "display_name": "Python 3",
   "language": "python",
   "name": "python3"
  },
  "language_info": {
   "codemirror_mode": {
    "name": "ipython",
    "version": 3
   },
   "file_extension": ".py",
   "mimetype": "text/x-python",
   "name": "python",
   "nbconvert_exporter": "python",
   "pygments_lexer": "ipython3",
   "version": "3.8.8"
  }
 },
 "nbformat": 4,
 "nbformat_minor": 5
}
